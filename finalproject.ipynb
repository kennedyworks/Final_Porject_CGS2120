{
  "cells": [
    {
      "cell_type": "markdown",
      "metadata": {
        "id": "view-in-github",
        "colab_type": "text"
      },
      "source": [
        "<a href=\"https://colab.research.google.com/github/kennedyworks/Final_Porject_CGS2120/blob/main/finalproject.ipynb\" target=\"_parent\"><img src=\"https://colab.research.google.com/assets/colab-badge.svg\" alt=\"Open In Colab\"/></a>"
      ]
    },
    {
      "cell_type": "markdown",
      "metadata": {
        "id": "sb2pZCNE1Xxf"
      },
      "source": []
    },
    {
      "cell_type": "code",
      "execution_count": null,
      "metadata": {
        "colab": {
          "background_save": true,
          "base_uri": "https://localhost:8080/"
        },
        "id": "l0RfoT3H8CmU",
        "outputId": "0eb571ca-42f8-4df9-d6e0-82516c1a8ce0"
      },
      "outputs": [
        {
          "name": "stdout",
          "output_type": "stream",
          "text": [
            "\n",
            "Select an operation:\n",
            "1. Addition\n",
            "2. Subtraction\n",
            "3. Multiplication\n",
            "4. Division\n",
            "5. Power\n",
            "6. Square Root\n",
            "7. Done\n",
            "6.0 / 0.0 = Error: Division by zero\n",
            "\n",
            "Select an operation:\n",
            "1. Addition\n",
            "2. Subtraction\n",
            "3. Multiplication\n",
            "4. Division\n",
            "5. Power\n",
            "6. Square Root\n",
            "7. Done\n"
          ]
        }
      ],
      "source": [
        "\n",
        "def add(a, b):#This function defines the sum of two values\n",
        "    return a + b\n",
        "\n",
        "def subtract(a, b): #This function defines the subtraction of two values\n",
        "    return a - b\n",
        "\n",
        "def multiply(a, b): #This function defines the multiplication two values\n",
        "    return a * b\n",
        "\n",
        "def divide(a, b): #This function defines the division of two values\n",
        "    try:\n",
        "        return a / b\n",
        "    except ZeroDivisionError:\n",
        "        return \"Error: Cannot do division by 0\"\n",
        "\n",
        "def power(a, b): #This function defines raising one value to the exponent of another\n",
        "    return a ** b\n",
        "\n",
        "import math\n",
        "def square_root(number): #This function defines the square roots a value\n",
        "    try:\n",
        "        return math.sqrt(number)\n",
        "    except ValueError: #Returns error for negative numbers\n",
        "        return \"Error: Cannot calculate square root of a negative number\"\n",
        "\n",
        "def calculator(): #Prompts calculator options\n",
        "    while True:\n",
        "        print(\"\\nSelect an operation:\")\n",
        "        print(\"1. Addition\")\n",
        "        print(\"2. Subtraction\")\n",
        "        print(\"3. Multiplication\")\n",
        "        print(\"4. Division\")\n",
        "        print(\"5. Power\")\n",
        "        print(\"6. Square Root\")\n",
        "        print(\"7. Done\")\n",
        "\n",
        "        choice = input(\"Enter an operation 1/2/3/4/5/6/7: \")\n",
        "\n",
        "        if choice in ('1', '2', '3', '4', '5', '6'):\n",
        "            try:\n",
        "                num1 = float(input(\"Enter first number: \"))\n",
        "                num2 = float(input(\"Enter second number: \")) if choice in ('1', '2', '3', '4', '5') else None\n",
        "            except ValueError:\n",
        "                print(\"Invalid. Please input numbers only.\")\n",
        "                continue\n",
        "\n",
        "            if choice == '1':\n",
        "                print(num1, \"+\", num2, \"=\", add(num1, num2)) #Calls addition\n",
        "            elif choice == '2':\n",
        "                print(num1, \"-\", num2, \"=\", subtract(num1, num2)) #Calls subtraction\n",
        "            elif choice == '3':\n",
        "                print(num1, \"*\", num2, \"=\", multiply(num1, num2)) #Calls multiplication\n",
        "            elif choice == '4':\n",
        "                print(num1, \"/\", num2, \"=\", divide(num1, num2)) #Calls division\n",
        "            elif choice == '5':\n",
        "                print(num1, \"**\", num2, \"=\", power(num1, num2)) #Calls expontential function\n",
        "            elif choice == '6':\n",
        "                print(\"√\", num1, \"=\", square_root(num1)) #Calls square root function\n",
        "        elif choice == '7': #Ends the calculator\n",
        "            break\n",
        "        else:\n",
        "            print(\"Invalid Input\")\n",
        "\n",
        "        another_calculation = input(\"Would you like to perform another calculation? (Yes/No): \") #Prompts to start over\n",
        "        if another_calculation.lower() != 'yes':\n",
        "            break\n",
        "\n",
        "calculator() # Run the calculator\n",
        "\n",
        "# 1-Reflect on how functions simplify the code structure.\n",
        "# The functions above simplify the code structure as it allows the user select an operation, identify two numbers and efficiently performs the intended task. Using the functions expidite the time in which the user receives the output.\n",
        "\n",
        "# 2- Discuss potential improvements or additional features (e.g., adding logarithmic functions).\n",
        "# To potentionally improve the calculator, features could be implemented such as natrural log, sin(x), cos(x), tangent(x), the inverse of sin,cos, and tan, and more. There are various operations that overall enhance the use and functionality of a calculator for users."
      ]
    },
    {
      "cell_type": "code",
      "execution_count": null,
      "metadata": {
        "id": "DlmXxaR8AmIG"
      },
      "outputs": [],
      "source": []
    }
  ],
  "metadata": {
    "colab": {
      "provenance": [],
      "authorship_tag": "ABX9TyPj4Ez/yp9usvbUHcrD0CXc",
      "include_colab_link": true
    },
    "kernelspec": {
      "display_name": "Python 3",
      "name": "python3"
    },
    "language_info": {
      "name": "python"
    }
  },
  "nbformat": 4,
  "nbformat_minor": 0
}